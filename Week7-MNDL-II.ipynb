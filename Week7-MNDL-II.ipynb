{
  "cells": [
    {
      "cell_type": "code",
      "execution_count": 1,
      "id": "19ae7116-7649-4bf4-82bf-7cdb400da5b9",
      "metadata": {
        "id": "19ae7116-7649-4bf4-82bf-7cdb400da5b9"
      },
      "outputs": [],
      "source": [
        "import numpy as np \n",
        "import pandas as pd \n",
        "import random\n",
        "import os\n",
        "import numpy as np\n",
        "import matplotlib.pyplot as plt\n",
        "import matplotlib.image as mpimg\n",
        "import tensorflow as tf"
      ]
    },
    {
      "cell_type": "code",
      "source": [
        "from pydrive.auth import GoogleAuth\n",
        "from pydrive.drive import GoogleDrive\n",
        "from google.colab import auth\n",
        "from oauth2client.client import GoogleCredentials"
      ],
      "metadata": {
        "id": "wuzLXw-fdp3k"
      },
      "id": "wuzLXw-fdp3k",
      "execution_count": 2,
      "outputs": []
    },
    {
      "cell_type": "code",
      "source": [
        "auth.authenticate_user()\n",
        "gauth = GoogleAuth()\n",
        "gauth.credentials = GoogleCredentials.get_application_default()\n",
        "drive = GoogleDrive(gauth)"
      ],
      "metadata": {
        "id": "j1y9K4cdd7yx"
      },
      "id": "j1y9K4cdd7yx",
      "execution_count": 3,
      "outputs": []
    },
    {
      "cell_type": "code",
      "source": [
        "downloaded = drive.CreateFile({'id':\"10frChX6he0sqLY1j7V1iWgBFFzaje8TL\"})   # replace the id with id of file you want to access\n",
        "downloaded.GetContentFile('train.zip') "
      ],
      "metadata": {
        "id": "sUZh1vhndwXr"
      },
      "id": "sUZh1vhndwXr",
      "execution_count": 4,
      "outputs": []
    },
    {
      "cell_type": "code",
      "source": [
        "try:\n",
        "  os.mkdir('Data')\n",
        "  os.mkdir('Data/CatsDogs')\n",
        "  os.mkdir('Data/CatsDogs/trn')\n",
        "  os.mkdir('Data/CatsDogs/trn/dogs')\n",
        "  os.mkdir('Data/CatsDogs/trn/cats')\n",
        "  os.mkdir('Data/CatsDogs/val')\n",
        "  os.mkdir('Data/CatsDogs/val/dogs')\n",
        "  os.mkdir('Data/CatsDogs/val/cats')\n",
        "  os.mkdir('Data/CatsDogs/tst')\n",
        "  os.mkdir('Data/CatsDogs/tst/dogs')\n",
        "  os.mkdir('Data/CatsDogs/tst/cats')\n",
        "except OSError:\n",
        "  pass\n",
        "\n",
        "train_dir = 'Data/CatsDogs/trn'\n",
        "val_dir = 'Data/CatsDogs/val'\n",
        "test_dir = 'Data/CatsDogs/tst'\n",
        "\n",
        "!unzip train.zip -d Data/CatsDogs > /dev/null"
      ],
      "metadata": {
        "id": "JWuKzyb2fFFL"
      },
      "id": "JWuKzyb2fFFL",
      "execution_count": 5,
      "outputs": []
    },
    {
      "cell_type": "code",
      "execution_count": 6,
      "id": "a15ccf29-f519-4217-8445-265f8faa2c27",
      "metadata": {
        "id": "a15ccf29-f519-4217-8445-265f8faa2c27"
      },
      "outputs": [],
      "source": [
        "%matplotlib inline\n",
        "unpack_dir = 'Data/CatsDogs/train'\n",
        "tr_imgs = [f'{i}' for i in os.listdir(unpack_dir)]\n",
        "\n",
        "np.random.shuffle(tr_imgs)"
      ]
    },
    {
      "cell_type": "code",
      "execution_count": 7,
      "id": "42fb101c-b170-40e2-889a-da63f8a19003",
      "metadata": {
        "id": "42fb101c-b170-40e2-889a-da63f8a19003"
      },
      "outputs": [],
      "source": [
        "trainratio = 0.75\n",
        "valratio = 0.1\n",
        "\n",
        "train = int(len(tr_imgs) * trainratio)\n",
        "val = int(len(tr_imgs) * valratio)"
      ]
    },
    {
      "cell_type": "code",
      "execution_count": 8,
      "id": "a9dbdd3e-27f2-4d05-a8ef-282a9723135b",
      "metadata": {
        "id": "a9dbdd3e-27f2-4d05-a8ef-282a9723135b"
      },
      "outputs": [],
      "source": [
        "def move_images(imgs, firstimage, lastimage, source, destination):\n",
        "\n",
        "  for fnam in imgs[firstimage:lastimage]:\n",
        "    srcfile = source + '/' + fnam\n",
        "    if 'dog' in fnam:\n",
        "      destfile = destination + '/dogs/' + fnam\n",
        "    else:\n",
        "      destfile = destination + '/cats/' + fnam\n",
        "    os.replace(srcfile, destfile)    \n",
        "\n",
        "move_images(tr_imgs, 0, train, unpack_dir, train_dir)\n",
        "move_images(tr_imgs, train, train + val, unpack_dir, val_dir)\n",
        "move_images(tr_imgs, train + val, len(tr_imgs), unpack_dir, test_dir)"
      ]
    },
    {
      "cell_type": "code",
      "source": [
        "print('Dogs in training set ', len(os.listdir('Data/CatsDogs/trn/dogs')))\n",
        "print('Cats in training set ', len(os.listdir('Data/CatsDogs/trn/cats')))\n",
        "print('Dogs in validation set ', len(os.listdir('Data/CatsDogs/val/dogs')))\n",
        "print('Cats in validation set ', len(os.listdir('Data/CatsDogs/val/cats')))\n",
        "print('Dogs in test set ', len(os.listdir('Data/CatsDogs/tst/dogs')))\n",
        "print('Cats in test set ', len(os.listdir('Data/CatsDogs/tst/cats')))\n",
        "\n"
      ],
      "metadata": {
        "id": "HG75ySXRMHts",
        "outputId": "fbbe19cb-13b7-4226-f7e5-9272e13c04b1",
        "colab": {
          "base_uri": "https://localhost:8080/"
        }
      },
      "id": "HG75ySXRMHts",
      "execution_count": 9,
      "outputs": [
        {
          "output_type": "stream",
          "name": "stdout",
          "text": [
            "Dogs in training set  9345\n",
            "Cats in training set  9405\n",
            "Dogs in validation set  1256\n",
            "Cats in validation set  1244\n",
            "Dogs in test set  1899\n",
            "Cats in test set  1851\n"
          ]
        }
      ]
    },
    {
      "cell_type": "code",
      "execution_count": 10,
      "id": "f3ecd51f-cb3a-4b92-b39e-a041fbe123c1",
      "metadata": {
        "id": "f3ecd51f-cb3a-4b92-b39e-a041fbe123c1",
        "outputId": "de4c0844-1d55-4635-aacc-078eb9f6e44e",
        "colab": {
          "base_uri": "https://localhost:8080/"
        }
      },
      "outputs": [
        {
          "output_type": "stream",
          "name": "stdout",
          "text": [
            "Found 18750 images belonging to 2 classes.\n",
            "Found 2500 images belonging to 2 classes.\n",
            "Found 3750 images belonging to 2 classes.\n"
          ]
        }
      ],
      "source": [
        "from tensorflow.keras.preprocessing.image import ImageDataGenerator\n",
        "from tensorflow.keras.preprocessing.image import img_to_array, load_img\n",
        "\n",
        "batch_size = 32\n",
        "\n",
        "trn_data = ImageDataGenerator(rescale=1/255,\n",
        "            rotation_range=40,\n",
        "            width_shift_range=0.2,\n",
        "            height_shift_range=0.2,\n",
        "            shear_range=0.2,\n",
        "            zoom_range=0.2,\n",
        "            horizontal_flip=True)\n",
        "valtst_data = ImageDataGenerator(rescale=1/255)\n",
        "\n",
        "trn_gen = trn_data.flow_from_directory(train_dir, batch_size=batch_size, class_mode='binary', target_size=(150,150))      \n",
        "val_gen = valtst_data.flow_from_directory(val_dir, batch_size=batch_size, class_mode='binary', target_size=(150,150))   \n",
        "tst_gen = valtst_data.flow_from_directory(test_dir, batch_size=batch_size, class_mode='binary', target_size=(150,150), shuffle=False) "
      ]
    },
    {
      "cell_type": "code",
      "execution_count": 11,
      "id": "be5f84a0-787d-459c-a0df-58c6c524ba5d",
      "metadata": {
        "id": "be5f84a0-787d-459c-a0df-58c6c524ba5d"
      },
      "outputs": [],
      "source": [
        "from tensorflow.keras.applications.inception_resnet_v2 import InceptionResNetV2\n",
        "from tensorflow.keras import layers, models\n",
        "\n",
        "def gen_model():\n",
        "    base=InceptionResNetV2(weights='imagenet',\n",
        "        include_top=False,\n",
        "        input_shape=(150, 150, 3))\n",
        "    model = models.Sequential()\n",
        "    model.add(base)\n",
        "    model.add(layers.Flatten())\n",
        "    model.add(layers.Dense(256, activation='relu'))\n",
        "    model.add(layers.Dense(2, activation='softmax'))\n",
        "    base.trainable = False\n",
        "    return model\n"
      ]
    },
    {
      "cell_type": "code",
      "execution_count": 12,
      "id": "3d9da983-d61c-43fc-ab48-fa76a606fba2",
      "metadata": {
        "id": "3d9da983-d61c-43fc-ab48-fa76a606fba2",
        "outputId": "d5ebcb58-64d4-4e3a-84e4-77d950f21358",
        "colab": {
          "base_uri": "https://localhost:8080/"
        }
      },
      "outputs": [
        {
          "output_type": "stream",
          "name": "stdout",
          "text": [
            "Downloading data from https://storage.googleapis.com/tensorflow/keras-applications/inception_resnet_v2/inception_resnet_v2_weights_tf_dim_ordering_tf_kernels_notop.h5\n",
            "219055592/219055592 [==============================] - 1s 0us/step\n",
            "Model: \"sequential\"\n",
            "_________________________________________________________________\n",
            " Layer (type)                Output Shape              Param #   \n",
            "=================================================================\n",
            " inception_resnet_v2 (Functi  (None, 3, 3, 1536)       54336736  \n",
            " onal)                                                           \n",
            "                                                                 \n",
            " flatten (Flatten)           (None, 13824)             0         \n",
            "                                                                 \n",
            " dense (Dense)               (None, 256)               3539200   \n",
            "                                                                 \n",
            " dense_1 (Dense)             (None, 2)                 514       \n",
            "                                                                 \n",
            "=================================================================\n",
            "Total params: 57,876,450\n",
            "Trainable params: 3,539,714\n",
            "Non-trainable params: 54,336,736\n",
            "_________________________________________________________________\n"
          ]
        }
      ],
      "source": [
        "model = gen_model()\n",
        "model.summary()"
      ]
    },
    {
      "cell_type": "code",
      "execution_count": 13,
      "id": "bc6f8a5a-40ab-44c9-a122-1d9a0693d52b",
      "metadata": {
        "id": "bc6f8a5a-40ab-44c9-a122-1d9a0693d52b",
        "outputId": "fe5cbcac-0b27-4154-bd03-b02312471cd1",
        "colab": {
          "base_uri": "https://localhost:8080/"
        }
      },
      "outputs": [
        {
          "output_type": "stream",
          "name": "stdout",
          "text": [
            "586/586 [==============================] - 188s 290ms/step - loss: 0.2013 - acc: 0.9247 - val_loss: 0.0958 - val_acc: 0.9664\n"
          ]
        }
      ],
      "source": [
        "from tensorflow.keras import optimizers\n",
        "\n",
        "epochs = 1\n",
        "\n",
        "model.compile(loss='sparse_categorical_crossentropy',\n",
        "                optimizer=optimizers.Adam(learning_rate=2e-5),\n",
        "                metrics=['acc'])\n",
        "hist = model.fit(trn_gen, validation_data=val_gen,\n",
        "                epochs=epochs)    "
      ]
    },
    {
      "cell_type": "code",
      "execution_count": 14,
      "id": "9ead7220-fb50-4d84-aa91-4bf70c155f31",
      "metadata": {
        "id": "9ead7220-fb50-4d84-aa91-4bf70c155f31",
        "outputId": "5c581a77-6dee-49f9-cb47-128cfa7a28b7",
        "colab": {
          "base_uri": "https://localhost:8080/",
          "height": 316
        }
      },
      "outputs": [
        {
          "output_type": "execute_result",
          "data": {
            "text/plain": [
              "<Figure size 432x288 with 0 Axes>"
            ]
          },
          "metadata": {},
          "execution_count": 14
        },
        {
          "output_type": "display_data",
          "data": {
            "text/plain": [
              "<Figure size 432x288 with 1 Axes>"
            ],
            "image/png": "[encoded data removed]"
          },
          "metadata": {
            "needs_background": "light"
          }
        },
        {
          "output_type": "display_data",
          "data": {
            "text/plain": [
              "<Figure size 432x288 with 0 Axes>"
            ]
          },
          "metadata": {}
        }
      ],
      "source": [
        "plt.plot(range(epochs), hist.history['acc'], 'r', label=\"Training Accuracy\")\n",
        "plt.plot(range(epochs), hist.history['val_acc'], 'b', label=\"Validation Accuracy\")\n",
        "plt.legend()\n",
        "plt.title('Training and validation accuracy')\n",
        "plt.figure()"
      ]
    },
    {
      "cell_type": "code",
      "execution_count": 18,
      "id": "4a31b200-9f61-46f4-be9e-8b37cbf495da",
      "metadata": {
        "id": "4a31b200-9f61-46f4-be9e-8b37cbf495da",
        "outputId": "ce2a56f8-f63e-4457-e158-4cee44191a92",
        "colab": {
          "base_uri": "https://localhost:8080/"
        }
      },
      "outputs": [
        {
          "output_type": "stream",
          "name": "stdout",
          "text": [
            "118/118 [==============================] - 17s 120ms/step\n"
          ]
        }
      ],
      "source": [
        "pr_yclass = model.predict(tst_gen)\n",
        "pr_y = np.argmax(pr_yclass, axis=1)\n",
        "true_y = tst_gen.classes\n"
      ]
    },
    {
      "cell_type": "code",
      "execution_count": 19,
      "id": "3cbf486d-f89c-4b51-aaa2-3bfcce283fc4",
      "metadata": {
        "id": "3cbf486d-f89c-4b51-aaa2-3bfcce283fc4",
        "outputId": "40fd1b14-ed16-414c-9eda-17148eaf2088",
        "colab": {
          "base_uri": "https://localhost:8080/"
        }
      },
      "outputs": [
        {
          "output_type": "execute_result",
          "data": {
            "text/plain": [
              "0.9725333333333334"
            ]
          },
          "metadata": {},
          "execution_count": 19
        }
      ],
      "source": [
        "(pr_y==true_y).sum()/len(true_y)"
      ]
    },
    {
      "cell_type": "code",
      "source": [
        "tf.math.confusion_matrix(true_y, pr_y)"
      ],
      "metadata": {
        "id": "tCZIR25aW3VJ",
        "outputId": "6fe43892-c8ec-44e0-ed9b-0b0d4ec2eb90",
        "colab": {
          "base_uri": "https://localhost:8080/"
        }
      },
      "id": "tCZIR25aW3VJ",
      "execution_count": 20,
      "outputs": [
        {
          "output_type": "execute_result",
          "data": {
            "text/plain": [
              "<tf.Tensor: shape=(2, 2), dtype=int32, numpy=\n",
              "array([[1783,   68],\n",
              "       [  35, 1864]], dtype=int32)>"
            ]
          },
          "metadata": {},
          "execution_count": 20
        }
      ]
    },
    {
      "cell_type": "code",
      "source": [],
      "metadata": {
        "id": "o0sEDvUCgrZd"
      },
      "id": "o0sEDvUCgrZd",
      "execution_count": null,
      "outputs": []
    }
  ],
  "metadata": {
    "kernelspec": {
      "display_name": "Python 3",
      "language": "python",
      "name": "python3"
    },
    "language_info": {
      "codemirror_mode": {
        "name": "ipython",
        "version": 3
      },
      "file_extension": ".py",
      "mimetype": "text/x-python",
      "name": "python",
      "nbconvert_exporter": "python",
      "pygments_lexer": "ipython3",
      "version": "3.8.10"
    },
    "colab": {
      "provenance": []
    },
    "accelerator": "GPU",
    "gpuClass": "standard"
  },
  "nbformat": 4,
  "nbformat_minor": 5
}